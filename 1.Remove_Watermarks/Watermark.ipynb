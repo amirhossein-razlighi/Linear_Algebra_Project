{
  "cells": [
    {
      "cell_type": "markdown",
      "metadata": {
        "id": "nbwhmX1XIZkT"
      },
      "source": [
        "<div align=center>\n",
        "\t\t\n",
        "<p></p>\n",
        "<p></p>\n",
        "<font size=5>\n",
        "In the Name of God\n",
        "<font/>\n",
        "<p></p>\n",
        " <br/>\n",
        "    <br/>\n",
        "    <br/>\n",
        "<font color=#FF7500>\n",
        "Sharif University of Technology - Departmenet of Computer Engineering\n",
        "</font>\n",
        "<p></p>\n",
        "<font color=blue>\n",
        "Linear Algebra \n",
        "<br>\n",
        "Prof. Hamid R. Rabiee\n",
        "<br>\n",
        "Dr. Maryam Ramezani\n",
        "</font>\n",
        "<br/>\n",
        "<br/>\n",
        "Fall 2022\n",
        "\n",
        "</div>\n",
        "\n",
        "<hr/>\n",
        "\t\t<div align=center>\n",
        "\t\t    <font color=red size=6>\n",
        "\t\t\t    <br />\n",
        "Project - Q1 <br>\n",
        "Watermark Images using SVD\n",
        "\n",
        "(35% of the overall project grade)\n",
        "            \t<br/>\n",
        "\t\t\t</font>\n",
        "<font size=4>\n",
        "\t\t\t<br/><br/>\n",
        "<font color=red>\n",
        "Please run all the cells.\n",
        "     </font>\n",
        "</font>\n",
        "<br>\n",
        "<font size=3 color=grey>\n",
        "</font>\n",
        "    </div>"
      ]
    },
    {
      "attachments": {},
      "cell_type": "markdown",
      "metadata": {
        "id": "nHAwVOCSNYMV"
      },
      "source": [
        "Name: AmirHossein Naghi Razlighi\n",
        "<br>\n",
        "Student Number: 99102423"
      ]
    },
    {
      "cell_type": "markdown",
      "metadata": {
        "id": "VCg4Lseuuo6B"
      },
      "source": [
        "# Watermark"
      ]
    },
    {
      "cell_type": "markdown",
      "metadata": {
        "id": "2NFw3t2j2bt7"
      },
      "source": [
        "A watermark is an image, overlay, or text that's placed over a digital asset. Usually, the image will be monochromatic and transparent, to enable others to still view the asset. You can read about the importance of the watermark in this [link](https://www.mediavalet.com/blog/watermarks-are-important/#)."
      ]
    },
    {
      "cell_type": "markdown",
      "metadata": {
        "id": "UlqdoYMKm-x3"
      },
      "source": [
        "# Add Watermark"
      ]
    },
    {
      "cell_type": "markdown",
      "metadata": {
        "id": "dCABtRMrhpmg"
      },
      "source": [
        "## Imports"
      ]
    },
    {
      "cell_type": "code",
      "execution_count": 1,
      "metadata": {
        "id": "oCnYQJ9PIZkb"
      },
      "outputs": [],
      "source": [
        "import numpy as np\n",
        "import cv2\n",
        "# from google.colab.patches import cv2_imshow\n",
        "from PIL import Image"
      ]
    },
    {
      "cell_type": "markdown",
      "metadata": {
        "id": "d_TFYHuahxB3"
      },
      "source": [
        "## Load & Show Images\n",
        "If you are using colab, you can upload the files by running the following cell."
      ]
    },
    {
      "cell_type": "code",
      "execution_count": null,
      "metadata": {
        "id": "jVPaQaWZSHgZ"
      },
      "outputs": [],
      "source": [
        "from google.colab import files\n",
        "uploaded = files.upload()"
      ]
    },
    {
      "cell_type": "markdown",
      "metadata": {
        "id": "TvhK-cE9_lWI"
      },
      "source": [
        "In the following cell, load the original image and the logo from the folder add_watermark and plot them using the ```cv2``` library. \n",
        "\n",
        "Note: both the image and the logo should be gray-scale."
      ]
    },
    {
      "cell_type": "code",
      "execution_count": 87,
      "metadata": {},
      "outputs": [],
      "source": [
        "def close_cv_windows():\n",
        "    cv2.startWindowThread()\n",
        "    cv2.waitKey(0)\n",
        "    cv2.destroyAllWindows()\n",
        "    cv2.waitKey(1)"
      ]
    },
    {
      "cell_type": "code",
      "execution_count": 88,
      "metadata": {
        "id": "bLXgbQJbJgXO"
      },
      "outputs": [],
      "source": [
        "original_img = cv2.imread('./add_watermark/dog.png', cv2.IMREAD_GRAYSCALE)\n",
        "watermark_img = cv2.imread('./add_watermark/logo.png', cv2.IMREAD_GRAYSCALE)\n",
        "\n",
        "##################\n",
        "#   Code here    #\n",
        "#   5 points     #\n",
        "##################\n",
        "\n",
        "cv2.namedWindow('Original')\n",
        "cv2.namedWindow('WaterMark')\n",
        "\n",
        "cv2.imshow('Original', original_img)\n",
        "cv2.imshow('WaterMark', watermark_img)\n",
        "close_cv_windows()\n"
      ]
    },
    {
      "cell_type": "markdown",
      "metadata": {
        "id": "aI3VXegRx-SJ"
      },
      "source": [
        "## Implementation [50 points]"
      ]
    },
    {
      "attachments": {},
      "cell_type": "markdown",
      "metadata": {
        "id": "j7moyGofyBnG"
      },
      "source": [
        "In this part you should add watermark to the original image. You should implement the following algorithm.\n",
        "\n",
        "1. Perform SVD on the original image (A matrix) and form the result as $USV^T$.\n",
        "\n",
        "2. Add watermark (W matrix), muliplied by a coefficine K, to the SVs of the original matrix. (S matrix in the previous step)\n",
        "\n",
        "3. Now, perform SVD again on matrix D.\n",
        "\n",
        "4. Replace the matrix S in the first step, with the SVs of the previous step (the middle matrix in step 3) to get the watermarked image.\n",
        "\n"
      ]
    },
    {
      "cell_type": "code",
      "execution_count": 89,
      "metadata": {},
      "outputs": [],
      "source": [
        "def svd_calculator(matrix):\n",
        "    u, s, vh = np.linalg.svd(matrix)\n",
        "    return u, s, vh\n"
      ]
    },
    {
      "cell_type": "code",
      "execution_count": 90,
      "metadata": {
        "id": "LClNFGnYIZkb"
      },
      "outputs": [],
      "source": [
        "def encode_watermark(original_img, watermark_img, watermarked_coeff=0.7):\n",
        "    \"\"\"\n",
        "    Args:\n",
        "        original_img (numpy.ndarray): Original Image\n",
        "        watermark_image (numpy.ndarray): Watermark Image\n",
        "\n",
        "    Returns:\n",
        "        numpy.ndarray: Watermarked Image\n",
        "    \"\"\"\n",
        "    ##################\n",
        "    #  Code here     #\n",
        "    #  40 points     #\n",
        "    ##################\n",
        "\n",
        "    u, sigma, vh = svd_calculator(original_img)\n",
        "    S = np.diag(sigma)\n",
        "\n",
        "    D = watermark_img * watermarked_coeff + S \n",
        "    u_d, sigma_d, vh_d = svd_calculator(D)\n",
        "\n",
        "    S_d = np.diag(sigma_d)\n",
        "\n",
        "    watermarked_image = u @ S_d @ vh\n",
        "    return watermarked_image\n"
      ]
    },
    {
      "attachments": {},
      "cell_type": "markdown",
      "metadata": {
        "id": "EwAxZW_pAdii"
      },
      "source": [
        "Display the watermarked image. "
      ]
    },
    {
      "cell_type": "code",
      "execution_count": 91,
      "metadata": {
        "id": "3Ao4CglBaMsC"
      },
      "outputs": [],
      "source": [
        "##################\n",
        "#  Code here     #\n",
        "#  5 points      #\n",
        "################## \n",
        "\n",
        "result = encode_watermark(original_img, watermark_img, watermarked_coeff=100)\n",
        "cv2.imshow('Watermarked', result)\n",
        "close_cv_windows()\n"
      ]
    },
    {
      "attachments": {},
      "cell_type": "markdown",
      "metadata": {
        "id": "7W-uIXMgByti"
      },
      "source": [
        "Explain about the place you added the logo. How is the watermarked image visually different from the original image? [5 points]"
      ]
    },
    {
      "attachments": {},
      "cell_type": "markdown",
      "metadata": {
        "id": "jf6U7aeYLQ1c"
      },
      "source": [
        "Answer: \n",
        "\n",
        "When we add $watermarkImg * watermarkCoeff$ to S matrix, we are adding some portion of the watermark image to the singular values of original image. then we calculate singular values of the new matrix and replace the singular values of the original image with the new singular values. In this way, we can add watermark to the original image. Note that watermarked_image does not visually cotain whole logo (you can not see it!) but it's some sort of a signature! It changes the values of some singular values of the original image and so, watermarked_image is somehow different(in pixel intensities) from original_image."
      ]
    },
    {
      "cell_type": "markdown",
      "metadata": {
        "id": "PHvgBKz60459"
      },
      "source": [
        "# Watermark Extraction [45 points]"
      ]
    },
    {
      "cell_type": "markdown",
      "metadata": {
        "id": "YOPa13hMpUCm"
      },
      "source": [
        "## Load Files"
      ]
    },
    {
      "cell_type": "code",
      "execution_count": null,
      "metadata": {
        "id": "sMnN2LEGtTsc"
      },
      "outputs": [],
      "source": [
        "from google.colab import files\n",
        "uploaded = files.upload()"
      ]
    },
    {
      "cell_type": "code",
      "execution_count": 92,
      "metadata": {
        "id": "OMsDvnoRoXdm"
      },
      "outputs": [],
      "source": [
        "watermarked_u = np.load('./extract_watermark/watermarked_u.npy')\n",
        "watermarked_vh = np.load('./extract_watermark/watermarked_vh.npy')\n",
        "S = np.load('./extract_watermark/S.npy')\n",
        "watermarked_img = cv2.imread(\n",
        "    './extract_watermark/watermarked_image.jpg', 0)\n"
      ]
    },
    {
      "cell_type": "markdown",
      "metadata": {
        "id": "nR_SKsCYqo9y"
      },
      "source": [
        "## Implementation "
      ]
    },
    {
      "cell_type": "markdown",
      "metadata": {
        "id": "_oK9GxmByWx2"
      },
      "source": [
        "The task in this part is to extract the watermarked image from a distorted one ($A^*_w$ matrix) and write the sentence that is written in the watermarked image. The matrix of singular values (S) from the original image, $U_w$, $V^T_w$, and the watermarked image are given to you.\n",
        "\n",
        "1. Perform SVD on the distorted watermarked image ($A^*_w$ matrix) in the form of $U^* S^*_w V^{*T}$.\n",
        "\n",
        "2. Compute the matrix that includes the watermark by $D^* = U_w S^*_w V^T_w$.\n",
        "\n",
        "3. Compute the corrupted watermark by subtracting the matrix $S$ from $D^*$ and dividing the result by the coefficient of the watermark, $K$.\n"
      ]
    },
    {
      "cell_type": "code",
      "execution_count": 93,
      "metadata": {
        "id": "des0DDGt25gw"
      },
      "outputs": [],
      "source": [
        "def get_watermark(watermarked_img, watermarked_u, S, watermarked_vh, watermarked_coeff):\n",
        "    ##################\n",
        "    #  Code here     #\n",
        "    #  35 points     #\n",
        "    ##################\n",
        "    u_star, sigma_star, vh_star = svd_calculator(watermarked_img)\n",
        "    D_star = watermarked_u @ np.diag(sigma_star) @ watermarked_vh\n",
        "    watermark = (D_star - S) / watermarked_coeff\n",
        "    return watermark\n"
      ]
    },
    {
      "cell_type": "markdown",
      "metadata": {
        "id": "IbauGXQhFrJ4"
      },
      "source": [
        "Get the watermark logo and display it. Note that in this section we do not know the watermark coefficient. You have to run the previous cell's function for at least 5 different coefficients and compare the results.   "
      ]
    },
    {
      "cell_type": "code",
      "execution_count": 94,
      "metadata": {
        "id": "KSooqGefGCS4"
      },
      "outputs": [],
      "source": [
        "##################\n",
        "#  Code here     #\n",
        "#  5 points      #\n",
        "##################\n",
        "\n",
        "watermark = get_watermark(\n",
        "    watermarked_img, watermarked_u, S, watermarked_vh, 100)\n",
        "\n",
        "cv2.imshow('Distorted', watermarked_img)\n",
        "cv2.imshow('Watermark', watermark)\n",
        "close_cv_windows()\n"
      ]
    },
    {
      "cell_type": "markdown",
      "metadata": {
        "id": "tsbOXQpmIqX8"
      },
      "source": [
        "Explain the effect of different coefficient values on the quality of the displayed logo. [5 points]"
      ]
    },
    {
      "attachments": {},
      "cell_type": "markdown",
      "metadata": {
        "id": "iTfEgFzlJKdY"
      },
      "source": [
        "Answer:\n",
        "\n",
        "The quality of the logo depends on the coefficient. If the coefficient is too small, the logo will not be distinguishable. actually, there will be some white lines! If the coefficient is too big, the logo will be too dark and not distinguishable. So, we should choose the coefficient carefully. SomeHow, if we make the coefficient bigger, it looks like it's getting blurier!"
      ]
    }
  ],
  "metadata": {
    "colab": {
      "provenance": []
    },
    "kernelspec": {
      "display_name": "venv",
      "language": "python",
      "name": "python3"
    },
    "language_info": {
      "codemirror_mode": {
        "name": "ipython",
        "version": 3
      },
      "file_extension": ".py",
      "mimetype": "text/x-python",
      "name": "python",
      "nbconvert_exporter": "python",
      "pygments_lexer": "ipython3",
      "version": "3.10.8"
    },
    "orig_nbformat": 4,
    "vscode": {
      "interpreter": {
        "hash": "d82f088e6d6cc0ca0a75d06881e2fd8984e7911b85fd855953bc58d2b743f4ec"
      }
    }
  },
  "nbformat": 4,
  "nbformat_minor": 0
}
